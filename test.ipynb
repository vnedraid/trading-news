{
 "cells": [
  {
   "cell_type": "code",
   "execution_count": 1,
   "id": "330f2cb4",
   "metadata": {},
   "outputs": [],
   "source": [
    "from langchain_gigachat import GigaChat\n",
    "from langchain_gigachat.embeddings import GigaChatEmbeddings\n",
    "\n",
    "import os\n",
    "\n",
    "llm = GigaChat(\n",
    "    credentials=os.getenv(\"GIGA_KEY\"),\n",
    "    model=\"GigaChat-2\",  # GigaChat-2-Pro\n",
    "    scope=\"GIGACHAT_API_PERS\",\n",
    "    verify_ssl_certs=False,\n",
    "    streaming=False,\n",
    ")\n",
    "\n",
    "embeddings = GigaChatEmbeddings(\n",
    "    credentials=os.getenv(\"GIGA_KEY\"), scope=\"GIGACHAT_API_PERS\", verify_ssl_certs=False\n",
    ")"
   ]
  },
  {
   "cell_type": "code",
   "execution_count": 6,
   "id": "7215fc7f",
   "metadata": {},
   "outputs": [],
   "source": [
    "from langchain_core.prompts import ChatPromptTemplate\n",
    "\n",
    "prompt = ChatPromptTemplate(\n",
    "    [\n",
    "        {\n",
    "            \"role\": \"human\",\n",
    "            \"content\": \"(Corrects cargo surveyors export data release to Nov 1-25, not Nov 1-20) KUALA LUMPUR, Nov 25 (Reuters) - Malaysian palm oil futures opened higher on Monday after three consecutive sessions of declines, buoyed by stronger rival vegetable oils. The benchmark palm oil contract <FCPOc3> for February delivery on the Bursa Malaysia Derivatives Exchange gained 68 ringgit, or 1.46%, to 4,710 ringgit ($1,056.76) a metric ton in early trade. FUNDAMENTALS * Dalian's most-active soyoil contract <DBYcv1> rose 0.15%, while its palm oil contract <DCPcv1> added 0.75%. Soyoil prices on the Chicago Board of Trade <BOcv1> were up 1.15%. * Palm oil tracks price movements of rival edible oils, as they compete for a share of the global vegetable oils market. * Oil prices hovered near two-week highs following 6% gains last week, as geopolitical tensions heightened between western powers and major oil producers Russia and Iran, raising risks of supply disruption. [O/R] * Brent crude futures <LCOc1> for January were down 0.36% at $74.90 a barrel as of 0247 GMT. Weaker crude oil futures make palm a less attractive option for biodiesel feedstock. * The ringgit <MYR=>, palm's currency of trade, strengthened 0.11% against the dollar, making the commodity more expensive for buyers holding foreign currencies. * Cargo surveyors are scheduled to release their export data for Nov. 1-25 later in the day. * Palm oil may test support at 4,595 ringgit per metric ton, with a good chance of breaking below it and falling towards 4,510 ringgit, Reuters technical analyst Wang Tao said. [TECH/C] MARKET NEWS * Asian stocks rallied with U.S. equity futures, while the dollar retreated against rivals as bond yields slid following the selection of fund manager Scott Bessent as the next U.S. Treasury secretary, with investors expecting he will be a voice for markets in Washington. [MKTS/GLOB] DATA/EVENTS 0900 Germany Ifo Business Climate New Nov 0900 Germany Ifo Curr Conditions New Nov 0900 Germany Ifo Expectations New Nov ($1 = 4.4570 ringgit) text_section_type=notes>For a table on Malaysian physical palm oil prices, including refined oil, Reuters Terminal users can double click on or type <OILS/MY01>. * To view freight rates from Peninsula Malaysia/Sumatra to China, India, Pakistan and Rotterdam, please key in <OILS/ASIA2> and press enter, or double click between the brackets. * Reuters Terminal users can see cash and futures edible oil prices by double clicking on the codes in the brackets: To go to the next page in the same chain, hit F12. To go back, hit F11. Vegetable oils <OILS/ASIA1> Malaysian palm oil exports <SGSPALM1> CBOT soyoil futures <0#BO:> CBOT soybean futures <0#S:> Indian solvent <SOLVENT01> Dalian Commodity Exchange <DC/MENU> Dalian soyoil futures <0#DBY:> Dalian refined palm oil futures <0#DCP:> Zhengzhou rapeseed oil <0#COI:> European edible oil prices/trades [OILS/E] <^^^^^^^^^^^^^^^^^^^^^^^^^^^^^^^^^^^^^^^^^^^^^^^^^^^^^^^^^^^ cpo https://tmsnrt.rs/4glmDtx ^^^^^^^^^^^^^^^^^^^^^^^^^^^^^^^^^^^^^^^^^^^^^^^^^^^^^^^^^^^> (Reporting by Ashley Tang; Editing by Subhranshu Sahu) ((mailto:ashley.tang@thomsonreuters.com;))\",\n",
    "        },\n",
    "    ]\n",
    ")"
   ]
  },
  {
   "cell_type": "code",
   "execution_count": 7,
   "id": "0444ed19",
   "metadata": {},
   "outputs": [],
   "source": [
    "chain = prompt | llm"
   ]
  },
  {
   "cell_type": "code",
   "execution_count": 9,
   "id": "a46258f1",
   "metadata": {},
   "outputs": [
    {
     "data": {
      "text/plain": [
       "AIMessage(content='**Корректировка публикации данных о грузообороте экспортеров пальмового масла**\\n\\nОригинальный анонс был неверно указан в части даты, корректная информация — данные будут опубликованы позже сегодня, 25 ноября, за период **с 1 по 25 ноября**, а не ранее указанного срока.\\n\\n---\\n\\n### Краткий обзор рынка пальмового масла\\n\\n#### Фундаментальные факторы\\n\\n- Основные биржевые цены:\\n  - **Соевое масло (Dalian):** незначительно повысилось (+0.15%).\\n  - **Пальмовое масло (Dalian):** прибавило +0.75%.\\n  - **Соевое масло (Chicago Board of Trade):** поднялось на 1.15%.\\n  \\n- **Цены на нефть (Brent):** снизились до $74.90 за баррель, что делает пальмовое масло менее привлекательным сырьем для производства биодизеля.\\n  \\n- **Курс малайзийского ринггита:** укрепился относительно доллара США на 0.11%, повышая стоимость пальмового масла для покупателей с иностранными валютами.\\n\\n#### Технические прогнозы\\n\\nТехнический аналитик Wang Tao предполагает, что цена пальмового масла может упасть ниже уровня поддержки 4,595 ринггитов за тонну, возможно достигнув отметки 4,510 ринггитов.\\n\\n#### Текущие новости рынков\\n\\n- Азиатские фондовые рынки показывают рост вслед за ростом американских фьючерсов на акции и ослаблением курса доллара после назначения нового министра финансов США Скотта Бессента.\\n  \\n- В Германии ожидаются важные экономические показатели:\\n  - Индекс деловой активности Ifo (бизнес-климат, текущее состояние и ожидания).\\n\\n#### Биржевые коды и ресурсы\\n\\nДля пользователей терминалов Reuters:\\n- Цены физического пальмового масла (включая переработанные продукты): OILS/MY01.\\n- Морские тарифы между полуостровной Малайзией/Суматрой и Индией, Китаем, Пакистаном и Роттердамом: OILS/ASIA2.\\n- Таблица цен и фьючерсных контрактов различных растительных масел: OILS/ASIA1.\\n\\n---\\n\\nИсточник: Reuters, Kuala Lumpur, 25 ноября 2023 г.', additional_kwargs={}, response_metadata={'token_usage': {'prompt_tokens': 870, 'completion_tokens': 482, 'total_tokens': 1352, 'precached_prompt_tokens': 2}, 'model_name': 'GigaChat-2:2.0.28.2', 'x_headers': {'x-request-id': '4c6e5850-bf64-41f4-9cf2-fe4e8a5a374a', 'x-session-id': 'b34cd9dc-c3b5-4a77-82f2-4713dcb8c5a6', 'x-client-id': None}, 'finish_reason': 'stop'}, id='4c6e5850-bf64-41f4-9cf2-fe4e8a5a374a', usage_metadata={'output_tokens': 482, 'input_tokens': 870, 'total_tokens': 1352, 'input_token_details': {'cache_read': 2}})"
      ]
     },
     "execution_count": 9,
     "metadata": {},
     "output_type": "execute_result"
    }
   ],
   "source": [
    "chain.invoke({})"
   ]
  },
  {
   "cell_type": "code",
   "execution_count": null,
   "id": "5e68f350",
   "metadata": {},
   "outputs": [],
   "source": []
  }
 ],
 "metadata": {
  "kernelspec": {
   "display_name": ".venv",
   "language": "python",
   "name": "python3"
  },
  "language_info": {
   "codemirror_mode": {
    "name": "ipython",
    "version": 3
   },
   "file_extension": ".py",
   "mimetype": "text/x-python",
   "name": "python",
   "nbconvert_exporter": "python",
   "pygments_lexer": "ipython3",
   "version": "3.12.10"
  }
 },
 "nbformat": 4,
 "nbformat_minor": 5
}
